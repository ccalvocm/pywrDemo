{
 "cells": [
  {
   "cell_type": "code",
   "execution_count": 10,
   "metadata": {},
   "outputs": [
    {
     "ename": "KeyError",
     "evalue": "\"Unknown parameter: 'flowQCarHu1'\"",
     "output_type": "error",
     "traceback": [
      "\u001b[1;31m---------------------------------------------------------------------------\u001b[0m",
      "\u001b[1;31mKeyError\u001b[0m                                  Traceback (most recent call last)",
      "File \u001b[1;32mpywr\\parameters\\_parameters.pyx:2130\u001b[0m, in \u001b[0;36mpywr.parameters._parameters.load_parameter\u001b[1;34m()\u001b[0m\n",
      "\u001b[1;31mKeyError\u001b[0m: 'flowQCarHu1'",
      "\nDuring handling of the above exception, another exception occurred:\n",
      "\u001b[1;31mKeyError\u001b[0m                                  Traceback (most recent call last)",
      "Cell \u001b[1;32mIn[10], line 13\u001b[0m\n\u001b[0;32m     10\u001b[0m \u001b[38;5;28;01mif\u001b[39;00m \u001b[38;5;18m__name__\u001b[39m \u001b[38;5;241m==\u001b[39m \u001b[38;5;124m\"\u001b[39m\u001b[38;5;124m__main__\u001b[39m\u001b[38;5;124m\"\u001b[39m:\n\u001b[0;32m     12\u001b[0m     modelo\u001b[38;5;241m=\u001b[39m\u001b[38;5;124m\"\u001b[39m\u001b[38;5;124mhuascoAlto.json\u001b[39m\u001b[38;5;124m\"\u001b[39m\n\u001b[1;32m---> 13\u001b[0m     m \u001b[38;5;241m=\u001b[39m \u001b[43mModel\u001b[49m\u001b[38;5;241;43m.\u001b[39;49m\u001b[43mload\u001b[49m\u001b[43m(\u001b[49m\u001b[43mmodelo\u001b[49m\u001b[43m)\u001b[49m\n\u001b[0;32m     14\u001b[0m     m\u001b[38;5;241m.\u001b[39msolver\u001b[38;5;241m.\u001b[39mname\u001b[38;5;241m=\u001b[39m\u001b[38;5;124m\"\u001b[39m\u001b[38;5;124mglpk-edge\u001b[39m\u001b[38;5;124m\"\u001b[39m\n\u001b[0;32m     15\u001b[0m     stats \u001b[38;5;241m=\u001b[39m m\u001b[38;5;241m.\u001b[39mrun()\n",
      "File \u001b[1;32mpywr\\_model.pyx:287\u001b[0m, in \u001b[0;36mpywr._model.Model.load\u001b[1;34m()\u001b[0m\n",
      "File \u001b[1;32mpywr\\_model.pyx:205\u001b[0m, in \u001b[0;36mpywr._model.Model.loads\u001b[1;34m()\u001b[0m\n",
      "File \u001b[1;32mpywr\\_model.pyx:295\u001b[0m, in \u001b[0;36mpywr._model.Model.load\u001b[1;34m()\u001b[0m\n",
      "File \u001b[1;32mpywr\\_model.pyx:427\u001b[0m, in \u001b[0;36mpywr._model.Model._load_from_dict\u001b[1;34m()\u001b[0m\n",
      "File \u001b[1;32mpywr\\_model.pyx:468\u001b[0m, in \u001b[0;36mpywr._model.Model.finalise_node\u001b[1;34m()\u001b[0m\n",
      "File \u001b[1;32mC:\\tools\\miniconda3\\envs\\py38\\lib\\site-packages\\pywr\\nodes.py:85\u001b[0m, in \u001b[0;36mLoadable.finalise_load\u001b[1;34m(self)\u001b[0m\n\u001b[0;32m     83\u001b[0m         parameter \u001b[38;5;241m=\u001b[39m [load_parameter(\u001b[38;5;28mself\u001b[39m\u001b[38;5;241m.\u001b[39mmodel, d) \u001b[38;5;28;01mfor\u001b[39;00m d \u001b[38;5;129;01min\u001b[39;00m parameter_data]\n\u001b[0;32m     84\u001b[0m     \u001b[38;5;28;01melse\u001b[39;00m:\n\u001b[1;32m---> 85\u001b[0m         parameter \u001b[38;5;241m=\u001b[39m \u001b[43mload_parameter\u001b[49m\u001b[43m(\u001b[49m\u001b[38;5;28;43mself\u001b[39;49m\u001b[38;5;241;43m.\u001b[39;49m\u001b[43mmodel\u001b[49m\u001b[43m,\u001b[49m\u001b[43m \u001b[49m\u001b[43mparameter_data\u001b[49m\u001b[43m)\u001b[49m\n\u001b[0;32m     87\u001b[0m     \u001b[38;5;28msetattr\u001b[39m(\u001b[38;5;28mself\u001b[39m, key, parameter)\n\u001b[0;32m     88\u001b[0m \u001b[38;5;28;01mdel\u001b[39;00m \u001b[38;5;28mself\u001b[39m\u001b[38;5;241m.\u001b[39m__parameters_to_load\n",
      "File \u001b[1;32mpywr\\parameters\\_parameters.pyx:2132\u001b[0m, in \u001b[0;36mpywr.parameters._parameters.load_parameter\u001b[1;34m()\u001b[0m\n",
      "\u001b[1;31mKeyError\u001b[0m: \"Unknown parameter: 'flowQCarHu1'\""
     ]
    }
   ],
   "source": [
    "from pywr.core import Model\n",
    "from pywr.recorders import Recorder\n",
    "from pywr.recorders._recorders import NodeRecorder\n",
    "import pandas\n",
    "import numpy as np\n",
    "from pywr.notebook import draw_graph\n",
    "from pywr.notebook import pywr_model_to_d3_json\n",
    "from matplotlib import pyplot as plt\n",
    "\n",
    "if __name__ == \"__main__\":\n",
    "\n",
    "    modelo=\"huascoAlto.json\"\n",
    "    m = Model.load(modelo)\n",
    "    m.solver.name=\"glpk-edge\"\n",
    "    stats = m.run()\n",
    "    print(stats)\n",
    "\n",
    "    df = m.to_dataframe()\n",
    "#     print(df.head())\n",
    "    df.plot(subplots=True, figsize = (12,6))\n",
    "    plt.show()\n",
    "    \n",
    "    plt.figure()\n",
    "    draw_graph(m,labels = True, attributes = True,width=600,height=600)\n",
    "    plt.show()\n"
   ]
  },
  {
   "cell_type": "code",
   "execution_count": null,
   "metadata": {},
   "outputs": [],
   "source": []
  }
 ],
 "metadata": {
  "kernelspec": {
   "display_name": "py38",
   "language": "python",
   "name": "py38"
  },
  "language_info": {
   "codemirror_mode": {
    "name": "ipython",
    "version": 3
   },
   "file_extension": ".py",
   "mimetype": "text/x-python",
   "name": "python",
   "nbconvert_exporter": "python",
   "pygments_lexer": "ipython3",
   "version": "3.8.15"
  },
  "toc-autonumbering": false,
  "toc-showcode": true
 },
 "nbformat": 4,
 "nbformat_minor": 4
}
